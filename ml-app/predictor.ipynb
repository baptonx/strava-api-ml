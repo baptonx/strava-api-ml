{
 "cells": [
  {
   "cell_type": "code",
   "execution_count": 66,
   "metadata": {},
   "outputs": [],
   "source": [
    "import numpy as np\n",
    "import sklearn\n",
    "import tensorflow as tf\n",
    "import keras\n",
    "import requests\n",
    "import base64"
   ]
  },
  {
   "cell_type": "markdown",
   "metadata": {},
   "source": [
    " ### Defining the URLs needed to communicate with Strava API\n",
    " I first need to get my access token because it expires after a while. To do that I have a refresh token that never expires, I make a post request to the API and it sends back my acces token."
   ]
  },
  {
   "cell_type": "code",
   "execution_count": 67,
   "metadata": {},
   "outputs": [
    {
     "data": {
      "text/plain": [
       "{'token_type': 'Bearer',\n",
       " 'access_token': 'd062bbe918736891e95540fe42a56598680aef0e',\n",
       " 'expires_at': 1642622241,\n",
       " 'expires_in': 18769,\n",
       " 'refresh_token': 'e5c7b025d8b3841489b9a741eb03ceed94b075af'}"
      ]
     },
     "execution_count": 67,
     "metadata": {},
     "output_type": "execute_result"
    }
   ],
   "source": [
    "# All needed parameters to get my token, available on my Strava account\n",
    "oauthUrl = 'https://www.strava.com/api/v3/oauth/token?'\n",
    "refresh_token = 'e5c7b025d8b3841489b9a741eb03ceed94b075af'\n",
    "access_token = ''\n",
    "client_id = 73837\n",
    "client_secret = '77f492b5ca6be20b52e95eb20def21a86a9de867'\n",
    "grant_type = 'refresh_token'\n",
    "postUrl = oauthUrl+'client_id='+str(client_id)+'&client_secret='+client_secret+'&code=3b29576c209a78b3d93affcfc1f8d4511f9e970a'+'&grant_type='+grant_type+'&refresh_token='+refresh_token\n",
    "\n",
    "# Get the oauth token\n",
    "headers = {'Authorization': 'Bearer {}'.format(access_token), 'Content-Type': 'application/json'}\n",
    "search_api_url = 'https://api.yelp.com/v3/businesses/search'\n",
    "params = {}\n",
    "response = requests.post(postUrl, headers=headers, params=params, timeout=5)\n",
    "dict = response.json()\n",
    "access_token = dict['access_token']\n",
    "dict"
   ]
  },
  {
   "cell_type": "markdown",
   "metadata": {},
   "source": [
    "### Getting all my activities to create a dataset\n",
    "Now that I have my token, I can easily make calls to the API and get my Strava data."
   ]
  },
  {
   "cell_type": "code",
   "execution_count": 68,
   "metadata": {},
   "outputs": [
    {
     "data": {
      "text/plain": [
       "'https://www.strava.com/api/v3/athlete/activities?per_page=200&access_token=d062bbe918736891e95540fe42a56598680aef0e'"
      ]
     },
     "execution_count": 68,
     "metadata": {},
     "output_type": "execute_result"
    }
   ],
   "source": [
    "activitiesUrl = 'https://www.strava.com/api/v3/athlete/activities?per_page=200'\n",
    "getUrl = activitiesUrl + '&access_token=' + access_token\n",
    "response = requests.get(getUrl, headers=headers, params=params, timeout=5)\n",
    "activities = response.json()\n",
    "getUrl"
   ]
  },
  {
   "cell_type": "markdown",
   "metadata": {},
   "source": [
    "### Filtering unwanted activities\n",
    "I will only work with my running data so I first filter every other activities."
   ]
  },
  {
   "cell_type": "code",
   "execution_count": 69,
   "metadata": {},
   "outputs": [
    {
     "data": {
      "text/plain": [
       "{'resource_state': 2,\n",
       " 'athlete': {'id': 17048501, 'resource_state': 1},\n",
       " 'name': 'EF 65’',\n",
       " 'distance': 13154.8,\n",
       " 'moving_time': 3851,\n",
       " 'elapsed_time': 3856,\n",
       " 'total_elevation_gain': 84.0,\n",
       " 'type': 'Run',\n",
       " 'workout_type': 0,\n",
       " 'id': 6512831380,\n",
       " 'external_id': 'garmin_push_8106025296',\n",
       " 'upload_id': 6925034673,\n",
       " 'start_date': '2022-01-12T16:09:32Z',\n",
       " 'start_date_local': '2022-01-12T17:09:32Z',\n",
       " 'timezone': '(GMT+01:00) Europe/Paris',\n",
       " 'utc_offset': 3600.0,\n",
       " 'location_city': None,\n",
       " 'location_state': None,\n",
       " 'location_country': 'France',\n",
       " 'achievement_count': 5,\n",
       " 'kudos_count': 23,\n",
       " 'comment_count': 0,\n",
       " 'athlete_count': 2,\n",
       " 'photo_count': 0,\n",
       " 'map': {'id': 'a6512831380',\n",
       "  'summary_polyline': 'gavdH|b~HB^R^VLzAa@h@BNEjCgAt@Tf@CHNXfAJNjA_@BBh@~BLhAPt@JHn@M`BcAf@Of@_@b@LtCyAtA[xFqCF?TT~BhL`@fCr@bDNlA~@lF@f@Px@Vl@XA\\\\T@X?`CB\\\\R`AFx@@fMCvB@dCDfBC~BJhEUhBQj@MPIpAa@dCa@bD@PUtC@jCYnF@jFJdDE|@NvF?pCb@VX@dAOfAYXShGqAlASP@hAYnC}@h@JRxBVn@TRJODa@VO|@OtCaBn@UnA}@hCiAb@KBBLb@`@~BjAlJVhDHlCClAIjAc@fCm@pBQ|@[jDO~@K`BSz@O^]^kAp@qA`AyAhBKlABfBG\\\\Ar@Gj@YnEMxCm@nEBjACZ_@tBg@~@K\\\\BdBJLv@APtACdBBv@N|CInADt@?dAHp@@|@Dt@Qx@Ar@Jz@@zAPhABdBS|BO^FzBAd@SzBGlA?~@Hz@Lv@FnAC`BUvBC|CBx@Jd@?\\\\HlAERSLQ`@?TFj@@v@DXtD~O~@rEVz@zA|GXzAh@lBL~BSjF[jB]nASfBf@_AcAp@Y`@YREM?[Jo@WkGo@_Fu@sCKqAA}@OeAW_A[{BUk@U_BMaA]wEOu@c@sDKYa@DSGQg@SeAGGy@TkCnAi@b@sBfAg@LGC_A\\\\WTm@x@q@b@m@IqBl@e@DcAIaAy@_Bu@kBkAiAg@q@c@_D_BiBk@]SgByAa@e@Mg@y@eAgBoCy@}A}@wAUk@M}A@[Nm@QUAg@Rm@Xe@`@kAz@eBj@yA^m@Ak@^mCZuAr@iBNQPcARu@Rg@VYRa@F}@h@oBF_AL{@Bw@IkDH_@@_@Gy@_@k@[_BCyAES?q@Gq@D}AGaDMaCa@aBq@gAw@oBu@}Aa@yBWk@]m@Oc@i@w@c@kAMKW}@[m@aAqAu@yAQg@k@mAe@mAMm@GaBf@q@Jk@IqAP{@FkCFq@vAoKJ}@C[NcB@q@d@aEOoAq@cEBO?_AU]?[nA}CJ[\\\\s@\\\\oAf@oAhAqDb@mB?a@Mi@BSZo@^q@@}@Gc@Cw@FU^SRY?Gk@wDq@kCu@gFeA{F]}A_A_GiAcGW{Bm@oDc@kBYs@Mu@WgBHg@Vc@BM@k@WiCVcA?QsAyIScAGi@K[',\n",
       "  'resource_state': 2},\n",
       " 'trainer': False,\n",
       " 'commute': False,\n",
       " 'manual': False,\n",
       " 'private': False,\n",
       " 'visibility': 'everyone',\n",
       " 'flagged': False,\n",
       " 'gear_id': 'g9743749',\n",
       " 'from_accepted_tag': False,\n",
       " 'upload_id_str': '6925034673',\n",
       " 'start_latlng': [48.12324229627848, -1.6339016519486904],\n",
       " 'end_latlng': [48.12231467105448, -1.6341802664101124],\n",
       " 'start_latitude': 48.12324229627848,\n",
       " 'start_longitude': -1.6341802664101124,\n",
       " 'average_speed': 3.416,\n",
       " 'max_speed': 5.418,\n",
       " 'average_cadence': 86.7,\n",
       " 'average_temp': 20,\n",
       " 'has_heartrate': True,\n",
       " 'average_heartrate': 137.8,\n",
       " 'max_heartrate': 153.0,\n",
       " 'heartrate_opt_out': False,\n",
       " 'display_hide_heartrate_option': True,\n",
       " 'elev_high': 56.2,\n",
       " 'elev_low': 23.6,\n",
       " 'pr_count': 1,\n",
       " 'total_photo_count': 0,\n",
       " 'has_kudoed': False}"
      ]
     },
     "execution_count": 69,
     "metadata": {},
     "output_type": "execute_result"
    }
   ],
   "source": [
    "running_activities = []\n",
    "\n",
    "for activity in activities:\n",
    "    if activity['type'] == 'Run':\n",
    "        if 'average_heartrate' in activity:\n",
    "            running_activities.append(activity)\n",
    "len(running_activities)\n",
    "running_activities[9]"
   ]
  },
  {
   "cell_type": "markdown",
   "metadata": {},
   "source": [
    "### Creating a dataframe to extract the differents variable of each activity"
   ]
  },
  {
   "cell_type": "code",
   "execution_count": 70,
   "metadata": {},
   "outputs": [
    {
     "name": "stderr",
     "output_type": "stream",
     "text": [
      "C:\\Users\\bapti\\AppData\\Local\\Programs\\Python\\Python37\\lib\\site-packages\\ipykernel_launcher.py:9: SettingWithCopyWarning: \n",
      "A value is trying to be set on a copy of a slice from a DataFrame\n",
      "\n",
      "See the caveats in the documentation: https://pandas.pydata.org/pandas-docs/stable/user_guide/indexing.html#returning-a-view-versus-a-copy\n",
      "  if __name__ == '__main__':\n"
     ]
    }
   ],
   "source": [
    "import pandas as pd\n",
    "\n",
    "features = ['distance', 'moving_time', 'elapsed_time', 'total_elevation_gain', 'elev_high', 'elev_low', 'average_cadence', 'average_temp', 'average_heartrate', 'max_heartrate', 'average_speed', 'max_speed', 'kudos_count', 'workout_type']\n",
    "\n",
    "df = pd.json_normalize(running_activities)\n",
    "df = df[features]\n",
    "for i in range(len(df['workout_type'])):\n",
    "    if pd.isna(df['workout_type'][i]):\n",
    "        df['workout_type'][i] = 0\n"
   ]
  },
  {
   "cell_type": "markdown",
   "metadata": {},
   "source": [
    "### Using sklearn I will use a kmeans clustering algorithm to plot the differents activities\n",
    "At first I split the data between train and test datasets"
   ]
  },
  {
   "cell_type": "code",
   "execution_count": 71,
   "metadata": {},
   "outputs": [
    {
     "data": {
      "text/plain": [
       "(110, 14)"
      ]
     },
     "execution_count": 71,
     "metadata": {},
     "output_type": "execute_result"
    }
   ],
   "source": [
    "from sklearn.model_selection import train_test_split\n",
    "\n",
    "train, test = train_test_split(df.values)\n",
    "\n",
    "train.shape"
   ]
  },
  {
   "cell_type": "code",
   "execution_count": 72,
   "metadata": {},
   "outputs": [
    {
     "data": {
      "text/plain": [
       "array([3, 3, 2, 0, 3, 1, 3, 2, 2, 1, 0, 3, 2, 2, 1, 3, 1, 1, 3, 3, 1, 2,\n",
       "       2, 1, 1, 1, 1, 2, 2, 1, 1, 1, 1, 3, 3, 2, 3])"
      ]
     },
     "execution_count": 72,
     "metadata": {},
     "output_type": "execute_result"
    }
   ],
   "source": [
    "from sklearn.cluster import KMeans\n",
    "\n",
    "kmeans = KMeans(n_clusters=4)\n",
    "kmeans.fit_predict(test, y=None, sample_weight=None)"
   ]
  },
  {
   "cell_type": "markdown",
   "metadata": {},
   "source": []
  },
  {
   "cell_type": "code",
   "execution_count": 73,
   "metadata": {},
   "outputs": [
    {
     "data": {
      "image/png": "[encoded data removed]",
      "text/plain": [
       "<Figure size 432x288 with 1 Axes>"
      ]
     },
     "metadata": {
      "needs_background": "light"
     },
     "output_type": "display_data"
    },
    {
     "data": {
      "text/html": [
       "<div>\n",
       "<style scoped>\n",
       "    .dataframe tbody tr th:only-of-type {\n",
       "        vertical-align: middle;\n",
       "    }\n",
       "\n",
       "    .dataframe tbody tr th {\n",
       "        vertical-align: top;\n",
       "    }\n",
       "\n",
       "    .dataframe thead th {\n",
       "        text-align: right;\n",
       "    }\n",
       "</style>\n",
       "<table border=\"1\" class=\"dataframe\">\n",
       "  <thead>\n",
       "    <tr style=\"text-align: right;\">\n",
       "      <th></th>\n",
       "      <th>distance</th>\n",
       "      <th>moving_time</th>\n",
       "      <th>elapsed_time</th>\n",
       "      <th>total_elevation_gain</th>\n",
       "      <th>elev_high</th>\n",
       "      <th>elev_low</th>\n",
       "      <th>average_cadence</th>\n",
       "      <th>average_temp</th>\n",
       "      <th>average_heartrate</th>\n",
       "      <th>max_heartrate</th>\n",
       "      <th>average_speed</th>\n",
       "      <th>max_speed</th>\n",
       "      <th>kudos_count</th>\n",
       "      <th>workout_type</th>\n",
       "    </tr>\n",
       "  </thead>\n",
       "  <tbody>\n",
       "    <tr>\n",
       "      <th>0</th>\n",
       "      <td>9798.3</td>\n",
       "      <td>2696</td>\n",
       "      <td>2706</td>\n",
       "      <td>64.0</td>\n",
       "      <td>50.6</td>\n",
       "      <td>24.4</td>\n",
       "      <td>89.3</td>\n",
       "      <td>18</td>\n",
       "      <td>142.3</td>\n",
       "      <td>155.0</td>\n",
       "      <td>3.634</td>\n",
       "      <td>4.690</td>\n",
       "      <td>11</td>\n",
       "      <td>0.0</td>\n",
       "    </tr>\n",
       "    <tr>\n",
       "      <th>3</th>\n",
       "      <td>8382.2</td>\n",
       "      <td>1900</td>\n",
       "      <td>1906</td>\n",
       "      <td>115.0</td>\n",
       "      <td>54.2</td>\n",
       "      <td>41.4</td>\n",
       "      <td>89.7</td>\n",
       "      <td>18</td>\n",
       "      <td>184.4</td>\n",
       "      <td>191.0</td>\n",
       "      <td>4.398</td>\n",
       "      <td>5.758</td>\n",
       "      <td>49</td>\n",
       "      <td>1.0</td>\n",
       "    </tr>\n",
       "    <tr>\n",
       "      <th>5</th>\n",
       "      <td>8196.5</td>\n",
       "      <td>2332</td>\n",
       "      <td>2340</td>\n",
       "      <td>50.0</td>\n",
       "      <td>52.0</td>\n",
       "      <td>26.4</td>\n",
       "      <td>87.5</td>\n",
       "      <td>18</td>\n",
       "      <td>141.8</td>\n",
       "      <td>174.0</td>\n",
       "      <td>3.515</td>\n",
       "      <td>6.232</td>\n",
       "      <td>17</td>\n",
       "      <td>0.0</td>\n",
       "    </tr>\n",
       "    <tr>\n",
       "      <th>6</th>\n",
       "      <td>11353.0</td>\n",
       "      <td>3117</td>\n",
       "      <td>3360</td>\n",
       "      <td>73.0</td>\n",
       "      <td>85.2</td>\n",
       "      <td>33.6</td>\n",
       "      <td>89.0</td>\n",
       "      <td>19</td>\n",
       "      <td>140.1</td>\n",
       "      <td>153.0</td>\n",
       "      <td>3.642</td>\n",
       "      <td>5.557</td>\n",
       "      <td>21</td>\n",
       "      <td>0.0</td>\n",
       "    </tr>\n",
       "    <tr>\n",
       "      <th>7</th>\n",
       "      <td>9632.1</td>\n",
       "      <td>3002</td>\n",
       "      <td>3106</td>\n",
       "      <td>61.0</td>\n",
       "      <td>60.6</td>\n",
       "      <td>32.0</td>\n",
       "      <td>88.0</td>\n",
       "      <td>16</td>\n",
       "      <td>127.7</td>\n",
       "      <td>149.0</td>\n",
       "      <td>3.209</td>\n",
       "      <td>4.152</td>\n",
       "      <td>23</td>\n",
       "      <td>0.0</td>\n",
       "    </tr>\n",
       "    <tr>\n",
       "      <th>...</th>\n",
       "      <td>...</td>\n",
       "      <td>...</td>\n",
       "      <td>...</td>\n",
       "      <td>...</td>\n",
       "      <td>...</td>\n",
       "      <td>...</td>\n",
       "      <td>...</td>\n",
       "      <td>...</td>\n",
       "      <td>...</td>\n",
       "      <td>...</td>\n",
       "      <td>...</td>\n",
       "      <td>...</td>\n",
       "      <td>...</td>\n",
       "      <td>...</td>\n",
       "    </tr>\n",
       "    <tr>\n",
       "      <th>140</th>\n",
       "      <td>9119.2</td>\n",
       "      <td>3056</td>\n",
       "      <td>3184</td>\n",
       "      <td>117.0</td>\n",
       "      <td>234.0</td>\n",
       "      <td>185.8</td>\n",
       "      <td>84.7</td>\n",
       "      <td>28</td>\n",
       "      <td>132.6</td>\n",
       "      <td>153.0</td>\n",
       "      <td>2.984</td>\n",
       "      <td>4.200</td>\n",
       "      <td>14</td>\n",
       "      <td>0.0</td>\n",
       "    </tr>\n",
       "    <tr>\n",
       "      <th>141</th>\n",
       "      <td>8849.3</td>\n",
       "      <td>2642</td>\n",
       "      <td>2700</td>\n",
       "      <td>145.0</td>\n",
       "      <td>287.0</td>\n",
       "      <td>195.0</td>\n",
       "      <td>86.9</td>\n",
       "      <td>29</td>\n",
       "      <td>148.0</td>\n",
       "      <td>159.0</td>\n",
       "      <td>3.349</td>\n",
       "      <td>4.700</td>\n",
       "      <td>11</td>\n",
       "      <td>0.0</td>\n",
       "    </tr>\n",
       "    <tr>\n",
       "      <th>143</th>\n",
       "      <td>9364.4</td>\n",
       "      <td>3186</td>\n",
       "      <td>3333</td>\n",
       "      <td>38.0</td>\n",
       "      <td>238.2</td>\n",
       "      <td>229.0</td>\n",
       "      <td>81.1</td>\n",
       "      <td>30</td>\n",
       "      <td>156.4</td>\n",
       "      <td>189.0</td>\n",
       "      <td>2.939</td>\n",
       "      <td>7.000</td>\n",
       "      <td>16</td>\n",
       "      <td>0.0</td>\n",
       "    </tr>\n",
       "    <tr>\n",
       "      <th>144</th>\n",
       "      <td>8159.8</td>\n",
       "      <td>2744</td>\n",
       "      <td>2855</td>\n",
       "      <td>152.0</td>\n",
       "      <td>275.0</td>\n",
       "      <td>178.2</td>\n",
       "      <td>84.1</td>\n",
       "      <td>30</td>\n",
       "      <td>134.0</td>\n",
       "      <td>156.0</td>\n",
       "      <td>2.974</td>\n",
       "      <td>4.000</td>\n",
       "      <td>14</td>\n",
       "      <td>0.0</td>\n",
       "    </tr>\n",
       "    <tr>\n",
       "      <th>145</th>\n",
       "      <td>8258.8</td>\n",
       "      <td>2488</td>\n",
       "      <td>2537</td>\n",
       "      <td>163.0</td>\n",
       "      <td>293.0</td>\n",
       "      <td>195.2</td>\n",
       "      <td>87.8</td>\n",
       "      <td>30</td>\n",
       "      <td>155.7</td>\n",
       "      <td>167.0</td>\n",
       "      <td>3.319</td>\n",
       "      <td>5.100</td>\n",
       "      <td>15</td>\n",
       "      <td>0.0</td>\n",
       "    </tr>\n",
       "  </tbody>\n",
       "</table>\n",
       "<p>65 rows × 14 columns</p>\n",
       "</div>"
      ],
      "text/plain": [
       "     distance  moving_time  elapsed_time  total_elevation_gain  elev_high  \\\n",
       "0      9798.3         2696          2706                  64.0       50.6   \n",
       "3      8382.2         1900          1906                 115.0       54.2   \n",
       "5      8196.5         2332          2340                  50.0       52.0   \n",
       "6     11353.0         3117          3360                  73.0       85.2   \n",
       "7      9632.1         3002          3106                  61.0       60.6   \n",
       "..        ...          ...           ...                   ...        ...   \n",
       "140    9119.2         3056          3184                 117.0      234.0   \n",
       "141    8849.3         2642          2700                 145.0      287.0   \n",
       "143    9364.4         3186          3333                  38.0      238.2   \n",
       "144    8159.8         2744          2855                 152.0      275.0   \n",
       "145    8258.8         2488          2537                 163.0      293.0   \n",
       "\n",
       "     elev_low  average_cadence  average_temp  average_heartrate  \\\n",
       "0        24.4             89.3            18              142.3   \n",
       "3        41.4             89.7            18              184.4   \n",
       "5        26.4             87.5            18              141.8   \n",
       "6        33.6             89.0            19              140.1   \n",
       "7        32.0             88.0            16              127.7   \n",
       "..        ...              ...           ...                ...   \n",
       "140     185.8             84.7            28              132.6   \n",
       "141     195.0             86.9            29              148.0   \n",
       "143     229.0             81.1            30              156.4   \n",
       "144     178.2             84.1            30              134.0   \n",
       "145     195.2             87.8            30              155.7   \n",
       "\n",
       "     max_heartrate  average_speed  max_speed  kudos_count  workout_type  \n",
       "0            155.0          3.634      4.690           11           0.0  \n",
       "3            191.0          4.398      5.758           49           1.0  \n",
       "5            174.0          3.515      6.232           17           0.0  \n",
       "6            153.0          3.642      5.557           21           0.0  \n",
       "7            149.0          3.209      4.152           23           0.0  \n",
       "..             ...            ...        ...          ...           ...  \n",
       "140          153.0          2.984      4.200           14           0.0  \n",
       "141          159.0          3.349      4.700           11           0.0  \n",
       "143          189.0          2.939      7.000           16           0.0  \n",
       "144          156.0          2.974      4.000           14           0.0  \n",
       "145          167.0          3.319      5.100           15           0.0  \n",
       "\n",
       "[65 rows x 14 columns]"
      ]
     },
     "execution_count": 73,
     "metadata": {},
     "output_type": "execute_result"
    }
   ],
   "source": [
    "import matplotlib.pyplot as plt\n",
    "\n",
    "label = kmeans.fit_predict(df)\n",
    " \n",
    "#filter rows of original data\n",
    "label0 = df[label == 0]\n",
    "label1 = df[label == 1]\n",
    "label2 = df[label == 2]\n",
    "label3 = df[label == 3]\n",
    "\n",
    "#plotting the results\n",
    "cols = label0.columns\n",
    "centers = pd.DataFrame(kmeans.cluster_centers_, columns=features)\n",
    "\n",
    "\n",
    "plt.scatter(label0[cols[0]], label0[cols[1]], color = 'red')\n",
    "plt.scatter(label1[cols[0]], label1[cols[1]], color = 'black')\n",
    "plt.scatter(label2[cols[0]], label2[cols[1]], color = 'green')\n",
    "plt.scatter(label3[cols[0]], label3[cols[1]], color = 'yellow')\n",
    "plt.scatter(centers[cols[0]], centers[cols[1]], color='blue')\n",
    "\n",
    "plt.show()\n",
    "label0"
   ]
  },
  {
   "cell_type": "code",
   "execution_count": 74,
   "metadata": {},
   "outputs": [
    {
     "data": {
      "image/png": "[encoded data removed]",
      "text/plain": [
       "<Figure size 432x288 with 1 Axes>"
      ]
     },
     "metadata": {
      "needs_background": "light"
     },
     "output_type": "display_data"
    }
   ],
   "source": [
    "plt.scatter(label0[cols[8]], label0[cols[12]], color = 'red')\n",
    "plt.scatter(label1[cols[8]], label1[cols[12]], color = 'black')\n",
    "plt.scatter(label2[cols[8]], label2[cols[12]], color = 'green')\n",
    "plt.scatter(label3[cols[8]], label3[cols[12]], color = 'yellow')\n",
    "plt.scatter(centers[cols[8]], centers[cols[12]], color='blue')\n",
    "\n",
    "plt.show()"
   ]
  },
  {
   "cell_type": "markdown",
   "metadata": {},
   "source": [
    "### PCA Analysis before Kmeans"
   ]
  },
  {
   "cell_type": "code",
   "execution_count": 75,
   "metadata": {},
   "outputs": [
    {
     "data": {
      "text/html": [
       "<div>\n",
       "<style scoped>\n",
       "    .dataframe tbody tr th:only-of-type {\n",
       "        vertical-align: middle;\n",
       "    }\n",
       "\n",
       "    .dataframe tbody tr th {\n",
       "        vertical-align: top;\n",
       "    }\n",
       "\n",
       "    .dataframe thead th {\n",
       "        text-align: right;\n",
       "    }\n",
       "</style>\n",
       "<table border=\"1\" class=\"dataframe\">\n",
       "  <thead>\n",
       "    <tr style=\"text-align: right;\">\n",
       "      <th></th>\n",
       "      <th>principal component 1</th>\n",
       "      <th>principal component 2</th>\n",
       "    </tr>\n",
       "  </thead>\n",
       "  <tbody>\n",
       "    <tr>\n",
       "      <th>0</th>\n",
       "      <td>-1.231168</td>\n",
       "      <td>-0.794942</td>\n",
       "    </tr>\n",
       "    <tr>\n",
       "      <th>1</th>\n",
       "      <td>-0.000307</td>\n",
       "      <td>3.658980</td>\n",
       "    </tr>\n",
       "    <tr>\n",
       "      <th>2</th>\n",
       "      <td>-1.200163</td>\n",
       "      <td>-1.665992</td>\n",
       "    </tr>\n",
       "    <tr>\n",
       "      <th>3</th>\n",
       "      <td>-2.736689</td>\n",
       "      <td>3.268940</td>\n",
       "    </tr>\n",
       "    <tr>\n",
       "      <th>4</th>\n",
       "      <td>-0.858689</td>\n",
       "      <td>-2.322269</td>\n",
       "    </tr>\n",
       "    <tr>\n",
       "      <th>...</th>\n",
       "      <td>...</td>\n",
       "      <td>...</td>\n",
       "    </tr>\n",
       "    <tr>\n",
       "      <th>142</th>\n",
       "      <td>4.160575</td>\n",
       "      <td>1.726599</td>\n",
       "    </tr>\n",
       "    <tr>\n",
       "      <th>143</th>\n",
       "      <td>-0.445146</td>\n",
       "      <td>0.512107</td>\n",
       "    </tr>\n",
       "    <tr>\n",
       "      <th>144</th>\n",
       "      <td>0.123782</td>\n",
       "      <td>-1.832568</td>\n",
       "    </tr>\n",
       "    <tr>\n",
       "      <th>145</th>\n",
       "      <td>-0.746779</td>\n",
       "      <td>-0.801753</td>\n",
       "    </tr>\n",
       "    <tr>\n",
       "      <th>146</th>\n",
       "      <td>0.066715</td>\n",
       "      <td>1.834166</td>\n",
       "    </tr>\n",
       "  </tbody>\n",
       "</table>\n",
       "<p>147 rows × 2 columns</p>\n",
       "</div>"
      ],
      "text/plain": [
       "     principal component 1  principal component 2\n",
       "0                -1.231168              -0.794942\n",
       "1                -0.000307               3.658980\n",
       "2                -1.200163              -1.665992\n",
       "3                -2.736689               3.268940\n",
       "4                -0.858689              -2.322269\n",
       "..                     ...                    ...\n",
       "142               4.160575               1.726599\n",
       "143              -0.445146               0.512107\n",
       "144               0.123782              -1.832568\n",
       "145              -0.746779              -0.801753\n",
       "146               0.066715               1.834166\n",
       "\n",
       "[147 rows x 2 columns]"
      ]
     },
     "execution_count": 75,
     "metadata": {},
     "output_type": "execute_result"
    }
   ],
   "source": [
    "from sklearn.preprocessing import StandardScaler\n",
    "from sklearn.decomposition import PCA\n",
    "\n",
    "x = StandardScaler().fit_transform(df)\n",
    "\n",
    "pca = PCA(n_components=2)\n",
    "principalComponents = pca.fit_transform(x)\n",
    "principalDf = pd.DataFrame(data = principalComponents, columns = ['principal component 1', 'principal component 2'])\n",
    "principalDf\n"
   ]
  },
  {
   "cell_type": "code",
   "execution_count": 76,
   "metadata": {},
   "outputs": [
    {
     "data": {
      "text/plain": [
       "array([0.38752077, 0.25213321])"
      ]
     },
     "execution_count": 76,
     "metadata": {},
     "output_type": "execute_result"
    },
    {
     "data": {
      "image/png": "[encoded data removed]",
      "text/plain": [
       "<Figure size 576x576 with 1 Axes>"
      ]
     },
     "metadata": {
      "needs_background": "light"
     },
     "output_type": "display_data"
    }
   ],
   "source": [
    "fig = plt.figure(figsize = (8,8))\n",
    "ax = fig.add_subplot(1,1,1) \n",
    "ax.set_xlabel('Principal Component 1', fontsize = 15)\n",
    "ax.set_ylabel('Principal Component 2', fontsize = 15)\n",
    "ax.set_title('2 component PCA', fontsize = 20)\n",
    "'''targets = ['Iris-setosa', 'Iris-versicolor', 'Iris-virginica']\n",
    "colors = ['r', 'g', 'b']\n",
    "for target, color in zip(targets,colors):\n",
    "    indicesToKeep = finalDf['target'] == target\n",
    "    ax.scatter(finalDf.loc[indicesToKeep, 'principal component 1']\n",
    "               , finalDf.loc[indicesToKeep, 'principal component 2']\n",
    "               , c = color\n",
    "               , s = 50)\n",
    "ax.legend(targets)'''\n",
    "plt.scatter(principalDf['principal component 1'], principalDf['principal component 2'])\n",
    "ax.grid()\n",
    "pca.explained_variance_ratio_"
   ]
  },
  {
   "cell_type": "markdown",
   "metadata": {},
   "source": [
    "### New approach with a SVM"
   ]
  },
  {
   "cell_type": "code",
   "execution_count": 80,
   "metadata": {},
   "outputs": [
    {
     "data": {
      "text/plain": [
       "array([1., 1., 1., 1.])"
      ]
     },
     "execution_count": 80,
     "metadata": {},
     "output_type": "execute_result"
    }
   ],
   "source": [
    "from sklearn import svm\n",
    "train, test = train_test_split(df.values)\n",
    "Xtrain = train[:, :12]\n",
    "Ytrain = np.array(train[:,13], dtype='int')\n",
    "Xtest = test[:, :12]\n",
    "Ytest = np.array(test[:,13], dtype='int')\n",
    "\n",
    "clf = svm.SVC()\n",
    "clf.fit(Xtrain, Ytrain)\n",
    "\n",
    "clf.predict(Xtest)\n",
    "clf.class_weight_\n"
   ]
  },
  {
   "cell_type": "code",
   "execution_count": 79,
   "metadata": {},
   "outputs": [
    {
     "name": "stdout",
     "output_type": "stream",
     "text": [
      "https://www.strava.com/api/v3/athlete/zones?per_page=200&access_token=d062bbe918736891e95540fe42a56598680aef0e\n"
     ]
    },
    {
     "data": {
      "text/plain": [
       "'d062bbe918736891e95540fe42a56598680aef0e'"
      ]
     },
     "execution_count": 79,
     "metadata": {},
     "output_type": "execute_result"
    }
   ],
   "source": []
  },
  {
   "cell_type": "code",
   "execution_count": null,
   "metadata": {},
   "outputs": [],
   "source": []
  }
 ],
 "metadata": {
  "interpreter": {
   "hash": "0e985406782f1d46967aaecb2de853dde5e4c95fbf88f61cfb9c6013d36e64b3"
  },
  "kernelspec": {
   "display_name": "Python 3.7.8 64-bit",
   "language": "python",
   "name": "python3"
  },
  "language_info": {
   "codemirror_mode": {
    "name": "ipython",
    "version": 3
   },
   "file_extension": ".py",
   "mimetype": "text/x-python",
   "name": "python",
   "nbconvert_exporter": "python",
   "pygments_lexer": "ipython3",
   "version": "3.7.8"
  },
  "orig_nbformat": 4
 },
 "nbformat": 4,
 "nbformat_minor": 2
}
